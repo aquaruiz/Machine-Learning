{
 "cells": [
  {
   "cell_type": "code",
   "execution_count": 1,
   "metadata": {},
   "outputs": [],
   "source": [
    "import numpy as np\n",
    "from sklearn.svm import SVR\n",
    "import matplotlib.pyplot as plt\n",
    "\n",
    "# Generate sample data\n",
    "X = np.sort(5 * np.random.rand(40, 1), axis=0)\n",
    "y = np.sin(X).ravel()"
   ]
  },
  {
   "cell_type": "code",
   "execution_count": 2,
   "metadata": {},
   "outputs": [
    {
     "data": {
      "text/plain": [
       "array([[0.53759606],\n",
       "       [0.61079287],\n",
       "       [0.65247973],\n",
       "       [0.99779455],\n",
       "       [1.08131192],\n",
       "       [1.08343342],\n",
       "       [1.0994303 ],\n",
       "       [1.17176147],\n",
       "       [1.18519333],\n",
       "       [1.20624773],\n",
       "       [1.29089837],\n",
       "       [1.49565468],\n",
       "       [1.78213775],\n",
       "       [1.81883654],\n",
       "       [1.82234093],\n",
       "       [1.84178754],\n",
       "       [2.00984407],\n",
       "       [2.198192  ],\n",
       "       [2.3015223 ],\n",
       "       [2.34150357],\n",
       "       [2.39360779],\n",
       "       [2.41218133],\n",
       "       [2.47973766],\n",
       "       [2.74145923],\n",
       "       [2.93187543],\n",
       "       [2.9804705 ],\n",
       "       [3.14634866],\n",
       "       [3.59875674],\n",
       "       [3.60331196],\n",
       "       [3.76265148],\n",
       "       [3.77359707],\n",
       "       [3.92155343],\n",
       "       [3.94767938],\n",
       "       [4.10403431],\n",
       "       [4.15523168],\n",
       "       [4.71828706],\n",
       "       [4.82434256],\n",
       "       [4.86371324],\n",
       "       [4.88079243],\n",
       "       [4.94062659]])"
      ]
     },
     "execution_count": 2,
     "metadata": {},
     "output_type": "execute_result"
    }
   ],
   "source": [
    "X"
   ]
  }
 ],
 "metadata": {
  "kernelspec": {
   "display_name": "Python 3",
   "language": "python",
   "name": "python3"
  },
  "language_info": {
   "codemirror_mode": {
    "name": "ipython",
    "version": 3
   },
   "file_extension": ".py",
   "mimetype": "text/x-python",
   "name": "python",
   "nbconvert_exporter": "python",
   "pygments_lexer": "ipython3",
   "version": "3.6.4"
  }
 },
 "nbformat": 4,
 "nbformat_minor": 2
}
